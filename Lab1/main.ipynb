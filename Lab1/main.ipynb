{
 "cells": [
  {
   "cell_type": "code",
   "execution_count": 3,
   "metadata": {
    "collapsed": true
   },
   "outputs": [],
   "source": [
    "import pandas as pd\n",
    "import seaborn as sns\n",
    "movies = pd.read_table('ml-1m/movies.dat',  encoding='windows-1252', sep='::', engine='python', names=['MovieID', 'Title', 'Genres'])\n",
    "ratings = pd.read_table('ml-1m/ratings.dat', sep='::', engine='python', names=['UserId', 'MovieID', 'Rating', 'Timestamp'])\n",
    "users = pd.read_table('ml-1m/users.dat', sep='::', engine='python', names=['UserId', 'Gender', 'Age', 'Occupation', 'Zip-code'])\n",
    "\n",
    "dfMovies = pd.DataFrame(movies)\n",
    "dfRatings = pd.DataFrame(ratings)\n",
    "dfUsers = pd.DataFrame(users)\n",
    "\n",
    "df = pd.merge(dfRatings, dfUsers)\n",
    "\n",
    "df = pd.merge(df, dfMovies)"
   ]
  },
  {
   "cell_type": "code",
   "execution_count": 4,
   "outputs": [],
   "source": [
    "bins = [0, 18, 25, 56, 200]\n",
    "ageLabels = ['Children', 'Youth', 'Adults', 'Seniors']\n",
    "df['AgeCategory'] = pd.cut(df['Age'], bins=bins, labels=ageLabels, right=False)"
   ],
   "metadata": {
    "collapsed": false
   }
  },
  {
   "cell_type": "code",
   "execution_count": 5,
   "outputs": [
    {
     "data": {
      "text/plain": "        UserId  MovieID  Rating  Timestamp Gender  Age  Occupation  \\\n0            1     1193       5  978300760      F    1          10   \n233796    5374     2770       5  962391108      M   35           7   \n233813    5483     2770       5  959888512      F   25           6   \n669852    1812     3635       5  974706848      F   25          12   \n669856    1871     3635       5  974694190      F   45           1   \n669859    1889     3635       5  976434211      M   18          14   \n669868    1983     3635       5  974685468      M   25          14   \n669877    2180     3635       5  974609427      M   25          12   \n669879    2195     3635       5  974766628      M    1          10   \n233820    5511     2770       5  959718168      M   45           1   \n\n          Zip-code                                   Title  Genres AgeCategory  \n0            48067  One Flew Over the Cuckoo's Nest (1975)   Drama    Children  \n233796       38018                        Bowfinger (1999)  Comedy      Adults  \n233813       15202                        Bowfinger (1999)  Comedy      Adults  \n669852       48103            Spy Who Loved Me, The (1977)  Action      Adults  \n669856       46774            Spy Who Loved Me, The (1977)  Action      Adults  \n669859       80023            Spy Who Loved Me, The (1977)  Action       Youth  \n669868       92109            Spy Who Loved Me, The (1977)  Action      Adults  \n669877  27713-9225            Spy Who Loved Me, The (1977)  Action      Adults  \n669879       60148            Spy Who Loved Me, The (1977)  Action    Children  \n233820       92407                        Bowfinger (1999)  Comedy      Adults  ",
      "text/html": "<div>\n<style scoped>\n    .dataframe tbody tr th:only-of-type {\n        vertical-align: middle;\n    }\n\n    .dataframe tbody tr th {\n        vertical-align: top;\n    }\n\n    .dataframe thead th {\n        text-align: right;\n    }\n</style>\n<table border=\"1\" class=\"dataframe\">\n  <thead>\n    <tr style=\"text-align: right;\">\n      <th></th>\n      <th>UserId</th>\n      <th>MovieID</th>\n      <th>Rating</th>\n      <th>Timestamp</th>\n      <th>Gender</th>\n      <th>Age</th>\n      <th>Occupation</th>\n      <th>Zip-code</th>\n      <th>Title</th>\n      <th>Genres</th>\n      <th>AgeCategory</th>\n    </tr>\n  </thead>\n  <tbody>\n    <tr>\n      <th>0</th>\n      <td>1</td>\n      <td>1193</td>\n      <td>5</td>\n      <td>978300760</td>\n      <td>F</td>\n      <td>1</td>\n      <td>10</td>\n      <td>48067</td>\n      <td>One Flew Over the Cuckoo's Nest (1975)</td>\n      <td>Drama</td>\n      <td>Children</td>\n    </tr>\n    <tr>\n      <th>233796</th>\n      <td>5374</td>\n      <td>2770</td>\n      <td>5</td>\n      <td>962391108</td>\n      <td>M</td>\n      <td>35</td>\n      <td>7</td>\n      <td>38018</td>\n      <td>Bowfinger (1999)</td>\n      <td>Comedy</td>\n      <td>Adults</td>\n    </tr>\n    <tr>\n      <th>233813</th>\n      <td>5483</td>\n      <td>2770</td>\n      <td>5</td>\n      <td>959888512</td>\n      <td>F</td>\n      <td>25</td>\n      <td>6</td>\n      <td>15202</td>\n      <td>Bowfinger (1999)</td>\n      <td>Comedy</td>\n      <td>Adults</td>\n    </tr>\n    <tr>\n      <th>669852</th>\n      <td>1812</td>\n      <td>3635</td>\n      <td>5</td>\n      <td>974706848</td>\n      <td>F</td>\n      <td>25</td>\n      <td>12</td>\n      <td>48103</td>\n      <td>Spy Who Loved Me, The (1977)</td>\n      <td>Action</td>\n      <td>Adults</td>\n    </tr>\n    <tr>\n      <th>669856</th>\n      <td>1871</td>\n      <td>3635</td>\n      <td>5</td>\n      <td>974694190</td>\n      <td>F</td>\n      <td>45</td>\n      <td>1</td>\n      <td>46774</td>\n      <td>Spy Who Loved Me, The (1977)</td>\n      <td>Action</td>\n      <td>Adults</td>\n    </tr>\n    <tr>\n      <th>669859</th>\n      <td>1889</td>\n      <td>3635</td>\n      <td>5</td>\n      <td>976434211</td>\n      <td>M</td>\n      <td>18</td>\n      <td>14</td>\n      <td>80023</td>\n      <td>Spy Who Loved Me, The (1977)</td>\n      <td>Action</td>\n      <td>Youth</td>\n    </tr>\n    <tr>\n      <th>669868</th>\n      <td>1983</td>\n      <td>3635</td>\n      <td>5</td>\n      <td>974685468</td>\n      <td>M</td>\n      <td>25</td>\n      <td>14</td>\n      <td>92109</td>\n      <td>Spy Who Loved Me, The (1977)</td>\n      <td>Action</td>\n      <td>Adults</td>\n    </tr>\n    <tr>\n      <th>669877</th>\n      <td>2180</td>\n      <td>3635</td>\n      <td>5</td>\n      <td>974609427</td>\n      <td>M</td>\n      <td>25</td>\n      <td>12</td>\n      <td>27713-9225</td>\n      <td>Spy Who Loved Me, The (1977)</td>\n      <td>Action</td>\n      <td>Adults</td>\n    </tr>\n    <tr>\n      <th>669879</th>\n      <td>2195</td>\n      <td>3635</td>\n      <td>5</td>\n      <td>974766628</td>\n      <td>M</td>\n      <td>1</td>\n      <td>10</td>\n      <td>60148</td>\n      <td>Spy Who Loved Me, The (1977)</td>\n      <td>Action</td>\n      <td>Children</td>\n    </tr>\n    <tr>\n      <th>233820</th>\n      <td>5511</td>\n      <td>2770</td>\n      <td>5</td>\n      <td>959718168</td>\n      <td>M</td>\n      <td>45</td>\n      <td>1</td>\n      <td>92407</td>\n      <td>Bowfinger (1999)</td>\n      <td>Comedy</td>\n      <td>Adults</td>\n    </tr>\n  </tbody>\n</table>\n</div>"
     },
     "execution_count": 5,
     "metadata": {},
     "output_type": "execute_result"
    }
   ],
   "source": [
    "df.sort_values('Rating', ascending=False).head(10)"
   ],
   "metadata": {
    "collapsed": false
   }
  },
  {
   "cell_type": "code",
   "execution_count": 6,
   "outputs": [
    {
     "data": {
      "text/plain": "                          Children-F  \\\n0                   Toy Story (1995)   \n1                 Toy Story 2 (1999)   \n2         Shakespeare in Love (1998)   \n3                     Aladdin (1992)   \n4            Sixth Sense, The (1999)   \n5                Forrest Gump (1994)   \n6               Bug's Life, A (1998)   \n7  E.T. the Extra-Terrestrial (1982)   \n8             American Beauty (1999)   \n9                        Babe (1995)   \n\n                                          Children-M  \\\n0                                 Matrix, The (1999)   \n1                            Sixth Sense, The (1999)   \n2          Star Wars: Episode IV - A New Hope (1977)   \n3  Star Wars: Episode VI - Return of the Jedi (1983)   \n4  Star Wars: Episode V - The Empire Strikes Back...   \n5                         Saving Private Ryan (1998)   \n6                             American Beauty (1999)   \n7                                   Toy Story (1995)   \n8                                Men in Black (1997)   \n9                                 Toy Story 2 (1999)   \n\n                                             Youth-F  \\\n0                             American Beauty (1999)   \n1                         Princess Bride, The (1987)   \n2                         Shakespeare in Love (1998)   \n3                            Sixth Sense, The (1999)   \n4                   Shawshank Redemption, The (1994)   \n5                   Silence of the Lambs, The (1991)   \n6                                Forrest Gump (1994)   \n7                                   Toy Story (1995)   \n8                            Schindler's List (1993)   \n9  Star Wars: Episode V - The Empire Strikes Back...   \n\n                                             Youth-M  \\\n0                             American Beauty (1999)   \n1  Star Wars: Episode V - The Empire Strikes Back...   \n2                                 Matrix, The (1999)   \n3          Star Wars: Episode IV - A New Hope (1977)   \n4  Star Wars: Episode VI - Return of the Jedi (1983)   \n5                                  Braveheart (1995)   \n6                         Saving Private Ryan (1998)   \n7                  Terminator 2: Judgment Day (1991)   \n8                            Sixth Sense, The (1999)   \n9                     Raiders of the Lost Ark (1981)   \n\n                                            Adults-F  \\\n0                             American Beauty (1999)   \n1                         Shakespeare in Love (1998)   \n2                   Silence of the Lambs, The (1991)   \n3                            Sixth Sense, The (1999)   \n4                                       Fargo (1996)   \n5          Star Wars: Episode IV - A New Hope (1977)   \n6                   Shawshank Redemption, The (1994)   \n7                            Schindler's List (1993)   \n8  Star Wars: Episode V - The Empire Strikes Back...   \n9                         Princess Bride, The (1987)   \n\n                                            Adults-M  \\\n0          Star Wars: Episode IV - A New Hope (1977)   \n1                             American Beauty (1999)   \n2  Star Wars: Episode V - The Empire Strikes Back...   \n3                  Terminator 2: Judgment Day (1991)   \n4                         Saving Private Ryan (1998)   \n5                     Raiders of the Lost Ark (1981)   \n6                                 Matrix, The (1999)   \n7  Star Wars: Episode VI - Return of the Jedi (1983)   \n8                   Silence of the Lambs, The (1991)   \n9                              Godfather, The (1972)   \n\n                                Seniors-F  \\\n0                  American Beauty (1999)   \n1                 Schindler's List (1993)   \n2  One Flew Over the Cuckoo's Nest (1975)   \n3              Shakespeare in Love (1998)   \n4               Gone with the Wind (1939)   \n5        Shawshank Redemption, The (1994)   \n6                     Forrest Gump (1994)   \n7              Saving Private Ryan (1998)   \n8                   Godfather, The (1972)   \n9                Wizard of Oz, The (1939)   \n\n                                           Seniors-M  \n0                             American Beauty (1999)  \n1                            Schindler's List (1993)  \n2                              Godfather, The (1972)  \n3                         Saving Private Ryan (1998)  \n4                                       Fargo (1996)  \n5          Star Wars: Episode IV - A New Hope (1977)  \n6                   Silence of the Lambs, The (1991)  \n7                         Shakespeare in Love (1998)  \n8  Star Wars: Episode V - The Empire Strikes Back...  \n9          Butch Cassidy and the Sundance Kid (1969)  ",
      "text/html": "<div>\n<style scoped>\n    .dataframe tbody tr th:only-of-type {\n        vertical-align: middle;\n    }\n\n    .dataframe tbody tr th {\n        vertical-align: top;\n    }\n\n    .dataframe thead th {\n        text-align: right;\n    }\n</style>\n<table border=\"1\" class=\"dataframe\">\n  <thead>\n    <tr style=\"text-align: right;\">\n      <th></th>\n      <th>Children-F</th>\n      <th>Children-M</th>\n      <th>Youth-F</th>\n      <th>Youth-M</th>\n      <th>Adults-F</th>\n      <th>Adults-M</th>\n      <th>Seniors-F</th>\n      <th>Seniors-M</th>\n    </tr>\n  </thead>\n  <tbody>\n    <tr>\n      <th>0</th>\n      <td>Toy Story (1995)</td>\n      <td>Matrix, The (1999)</td>\n      <td>American Beauty (1999)</td>\n      <td>American Beauty (1999)</td>\n      <td>American Beauty (1999)</td>\n      <td>Star Wars: Episode IV - A New Hope (1977)</td>\n      <td>American Beauty (1999)</td>\n      <td>American Beauty (1999)</td>\n    </tr>\n    <tr>\n      <th>1</th>\n      <td>Toy Story 2 (1999)</td>\n      <td>Sixth Sense, The (1999)</td>\n      <td>Princess Bride, The (1987)</td>\n      <td>Star Wars: Episode V - The Empire Strikes Back...</td>\n      <td>Shakespeare in Love (1998)</td>\n      <td>American Beauty (1999)</td>\n      <td>Schindler's List (1993)</td>\n      <td>Schindler's List (1993)</td>\n    </tr>\n    <tr>\n      <th>2</th>\n      <td>Shakespeare in Love (1998)</td>\n      <td>Star Wars: Episode IV - A New Hope (1977)</td>\n      <td>Shakespeare in Love (1998)</td>\n      <td>Matrix, The (1999)</td>\n      <td>Silence of the Lambs, The (1991)</td>\n      <td>Star Wars: Episode V - The Empire Strikes Back...</td>\n      <td>One Flew Over the Cuckoo's Nest (1975)</td>\n      <td>Godfather, The (1972)</td>\n    </tr>\n    <tr>\n      <th>3</th>\n      <td>Aladdin (1992)</td>\n      <td>Star Wars: Episode VI - Return of the Jedi (1983)</td>\n      <td>Sixth Sense, The (1999)</td>\n      <td>Star Wars: Episode IV - A New Hope (1977)</td>\n      <td>Sixth Sense, The (1999)</td>\n      <td>Terminator 2: Judgment Day (1991)</td>\n      <td>Shakespeare in Love (1998)</td>\n      <td>Saving Private Ryan (1998)</td>\n    </tr>\n    <tr>\n      <th>4</th>\n      <td>Sixth Sense, The (1999)</td>\n      <td>Star Wars: Episode V - The Empire Strikes Back...</td>\n      <td>Shawshank Redemption, The (1994)</td>\n      <td>Star Wars: Episode VI - Return of the Jedi (1983)</td>\n      <td>Fargo (1996)</td>\n      <td>Saving Private Ryan (1998)</td>\n      <td>Gone with the Wind (1939)</td>\n      <td>Fargo (1996)</td>\n    </tr>\n    <tr>\n      <th>5</th>\n      <td>Forrest Gump (1994)</td>\n      <td>Saving Private Ryan (1998)</td>\n      <td>Silence of the Lambs, The (1991)</td>\n      <td>Braveheart (1995)</td>\n      <td>Star Wars: Episode IV - A New Hope (1977)</td>\n      <td>Raiders of the Lost Ark (1981)</td>\n      <td>Shawshank Redemption, The (1994)</td>\n      <td>Star Wars: Episode IV - A New Hope (1977)</td>\n    </tr>\n    <tr>\n      <th>6</th>\n      <td>Bug's Life, A (1998)</td>\n      <td>American Beauty (1999)</td>\n      <td>Forrest Gump (1994)</td>\n      <td>Saving Private Ryan (1998)</td>\n      <td>Shawshank Redemption, The (1994)</td>\n      <td>Matrix, The (1999)</td>\n      <td>Forrest Gump (1994)</td>\n      <td>Silence of the Lambs, The (1991)</td>\n    </tr>\n    <tr>\n      <th>7</th>\n      <td>E.T. the Extra-Terrestrial (1982)</td>\n      <td>Toy Story (1995)</td>\n      <td>Toy Story (1995)</td>\n      <td>Terminator 2: Judgment Day (1991)</td>\n      <td>Schindler's List (1993)</td>\n      <td>Star Wars: Episode VI - Return of the Jedi (1983)</td>\n      <td>Saving Private Ryan (1998)</td>\n      <td>Shakespeare in Love (1998)</td>\n    </tr>\n    <tr>\n      <th>8</th>\n      <td>American Beauty (1999)</td>\n      <td>Men in Black (1997)</td>\n      <td>Schindler's List (1993)</td>\n      <td>Sixth Sense, The (1999)</td>\n      <td>Star Wars: Episode V - The Empire Strikes Back...</td>\n      <td>Silence of the Lambs, The (1991)</td>\n      <td>Godfather, The (1972)</td>\n      <td>Star Wars: Episode V - The Empire Strikes Back...</td>\n    </tr>\n    <tr>\n      <th>9</th>\n      <td>Babe (1995)</td>\n      <td>Toy Story 2 (1999)</td>\n      <td>Star Wars: Episode V - The Empire Strikes Back...</td>\n      <td>Raiders of the Lost Ark (1981)</td>\n      <td>Princess Bride, The (1987)</td>\n      <td>Godfather, The (1972)</td>\n      <td>Wizard of Oz, The (1939)</td>\n      <td>Butch Cassidy and the Sundance Kid (1969)</td>\n    </tr>\n  </tbody>\n</table>\n</div>"
     },
     "execution_count": 6,
     "metadata": {},
     "output_type": "execute_result"
    }
   ],
   "source": [
    "age_pivot = df.pivot_table('Rating', index='Title', columns=['AgeCategory', 'Gender'], aggfunc='sum')\n",
    "age_pivot\n",
    "\n",
    "genders = ['F', 'M']\n",
    "result = pd.DataFrame(columns=['Children-F','Children-M', 'Youth-F', 'Youth-M', 'Adults-F', 'Adults-M', 'Seniors-F', 'Seniors-M'])\n",
    "for label in ageLabels:\n",
    "    for gender in genders:\n",
    "        ratings = age_pivot[label][gender].sort_values(ascending=False).head(10)\n",
    "        result[label + '-' + gender] = ratings.index\n",
    "result"
   ],
   "metadata": {
    "collapsed": false
   }
  },
  {
   "cell_type": "code",
   "execution_count": 6,
   "outputs": [],
   "source": [],
   "metadata": {
    "collapsed": false
   }
  }
 ],
 "metadata": {
  "kernelspec": {
   "display_name": "Python 3",
   "language": "python",
   "name": "python3"
  },
  "language_info": {
   "codemirror_mode": {
    "name": "ipython",
    "version": 2
   },
   "file_extension": ".py",
   "mimetype": "text/x-python",
   "name": "python",
   "nbconvert_exporter": "python",
   "pygments_lexer": "ipython2",
   "version": "2.7.6"
  }
 },
 "nbformat": 4,
 "nbformat_minor": 0
}
